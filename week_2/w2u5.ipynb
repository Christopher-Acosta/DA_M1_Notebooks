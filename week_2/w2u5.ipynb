{
 "cells": [
  {
   "cell_type": "markdown",
   "metadata": {},
   "source": [
    "# Using [ranges](https://docs.python.org/3/tutorial/controlflow.html#the-range-function) to create sequences of numbers\n",
    "Python has an own data type to represent a sequence of numbers. This data type is called\n",
    "[*Range*](https://docs.python.org/3/library/stdtypes.html#ranges). Ranges are created by calling the `range` function.\n",
    "\n",
    "In its simplest form the `range` function is invoked by with just one parameter. In this case a Range starting from 0 is\n",
    "created. The following example shows how to create a range containing the numbers from 0 to 4:\n",
    "\n",
    "```python\n",
    "  range(5) # -> 0 1 2 3 4\n",
    "```\n",
    "\n",
    "As you can see, the paramter, i.e. the end point of the sequence, is **not** part of the sequence. \n",
    "\n",
    "Alternatively, an initial value other than 0 can be used to defined a range. To do this, the `range` function is called\n",
    "with two parameters. The following function call creates a range in the interval from 10 to 15.\n",
    "\n",
    "```python\n",
    "  range(10,16) # -> 10 11 12 13 14 15\n",
    "```\n",
    "\n",
    "As you can see, the start point **is** part of the sequence, the end point is not. Question: What sequence is produced with range: `range(3,3)`? Give it a try ...\n",
    "\n",
    "By using the step size the distance between the numbers in the interval can be defined. The step size can be negative as\n",
    "well as positive.\n",
    "\n",
    "```python\n",
    "  range(2,12,3) # -> 2 5 8 11\n",
    "  range(20,5,-5) # -> 20 15 10\n",
    "```\n",
    "\n",
    "# Ranges and the `for` loop\n",
    "Ranges can be used in combination with the `for` loop to control the number of loop passes. This is explained in more\n",
    "detail in the following examples. For instance, to print the numbers from 0 to 9, the following Python code can be used:"
   ]
  },
  {
   "cell_type": "code",
   "execution_count": 1,
   "metadata": {},
   "outputs": [
    {
     "name": "stdout",
     "output_type": "stream",
     "text": [
      "0\n",
      "1\n",
      "2\n",
      "3\n",
      "4\n",
      "5\n",
      "6\n",
      "7\n",
      "8\n",
      "9\n"
     ]
    }
   ],
   "source": [
    "for number in range(10):\n",
    "    print(number)"
   ]
  },
  {
   "cell_type": "markdown",
   "metadata": {},
   "source": [
    "The numbers from 10 to 19 can be output as follows:"
   ]
  },
  {
   "cell_type": "code",
   "execution_count": 2,
   "metadata": {},
   "outputs": [
    {
     "name": "stdout",
     "output_type": "stream",
     "text": [
      "10\n",
      "11\n",
      "12\n",
      "13\n",
      "14\n",
      "15\n",
      "16\n",
      "17\n",
      "18\n",
      "19\n"
     ]
    }
   ],
   "source": [
    "for number in range(10, 20):\n",
    "    print(number)"
   ]
  },
  {
   "cell_type": "markdown",
   "metadata": {},
   "source": [
    "Last but not least, the step size of the interval represented by the range can be adjusted. For example, the following\n",
    "Python code outputs all numbers from 10 to 0 in steps of 2."
   ]
  },
  {
   "cell_type": "code",
   "execution_count": null,
   "metadata": {},
   "outputs": [
    {
     "ename": "NameError",
     "evalue": "name 'rage' is not defined",
     "output_type": "error",
     "traceback": [
      "\u001b[31m---------------------------------------------------------------------------\u001b[39m",
      "\u001b[31mNameError\u001b[39m                                 Traceback (most recent call last)",
      "\u001b[36mCell\u001b[39m\u001b[36m \u001b[39m\u001b[32mIn[7]\u001b[39m\u001b[32m, line 1\u001b[39m\n\u001b[32m----> \u001b[39m\u001b[32m1\u001b[39m \u001b[38;5;28;01mfor\u001b[39;00m number \u001b[38;5;129;01min\u001b[39;00m \u001b[43mrage\u001b[49m(\u001b[32m10\u001b[39m, \u001b[32m0\u001b[39m, -\u001b[32m2\u001b[39m):\n\u001b[32m      2\u001b[39m     \u001b[38;5;28mprint\u001b[39m(number)\n",
      "\u001b[31mNameError\u001b[39m: name 'rage' is not defined"
     ]
    }
   ],
   "source": [
    "for number in range(10, 0, -2):\n",
    "    print(number)"
   ]
  },
  {
   "cell_type": "markdown",
   "metadata": {},
   "source": [
    "# Exercise 1 - Combining `range` and `input`\n",
    "Now it's your turn again. Write a Python program that expects three integer numbers as input: from, to and increment.\n",
    "Then output the numbers in that range with the appropriate increment. Note: Remember to convert the inputs to the\n",
    "correct data type."
   ]
  },
  {
   "cell_type": "code",
   "execution_count": 8,
   "metadata": {},
   "outputs": [
    {
     "name": "stdout",
     "output_type": "stream",
     "text": [
      "0\n",
      "2\n",
      "4\n",
      "6\n",
      "8\n"
     ]
    }
   ],
   "source": [
    "for number in range(0, 10, 2):\n",
    "    print(number)"
   ]
  },
  {
   "cell_type": "markdown",
   "metadata": {},
   "source": [
    "# Exercise 2 - FizzBuzz\n",
    "Write a program that outputs the numbers from 1 to 100. All numbers that are divisible by three should be replaced by\n",
    "*Fizz* and all numbers that are divisible by 5 should be replaced by *Buzz*. Numbers that are divisible by both 3 and 5\n",
    "will be replaced by \"FizzBuzz\".  \n",
    "**Note:** You can check the divisibility with the modulo operator ``%`. The output of the function should look like\n",
    "this:\n",
    "\n",
    "> 1 <br>\n",
    "> 2 <br>\n",
    "> Fizz <br>\n",
    "> 4 <br>\n",
    "> Buzz <br>\n",
    "> Fizz <br>\n",
    "> 7 <br>\n",
    "> ..."
   ]
  },
  {
   "cell_type": "code",
   "execution_count": 15,
   "metadata": {},
   "outputs": [
    {
     "name": "stdout",
     "output_type": "stream",
     "text": [
      "3 Fizz\n",
      "5 Buzz\n",
      "6 Fizz\n",
      "9 Fizz\n",
      "10 Buzz\n",
      "12 Fizz\n",
      "15 FizzBuzz\n",
      "18 Fizz\n",
      "20 Buzz\n",
      "21 Fizz\n",
      "24 Fizz\n",
      "25 Buzz\n",
      "27 Fizz\n",
      "30 FizzBuzz\n",
      "33 Fizz\n",
      "35 Buzz\n",
      "36 Fizz\n",
      "39 Fizz\n",
      "40 Buzz\n",
      "42 Fizz\n",
      "45 FizzBuzz\n",
      "48 Fizz\n",
      "50 Buzz\n",
      "51 Fizz\n",
      "54 Fizz\n",
      "55 Buzz\n",
      "57 Fizz\n",
      "60 FizzBuzz\n",
      "63 Fizz\n",
      "65 Buzz\n",
      "66 Fizz\n",
      "69 Fizz\n",
      "70 Buzz\n",
      "72 Fizz\n",
      "75 FizzBuzz\n",
      "78 Fizz\n",
      "80 Buzz\n",
      "81 Fizz\n",
      "84 Fizz\n",
      "85 Buzz\n",
      "87 Fizz\n",
      "90 FizzBuzz\n",
      "93 Fizz\n",
      "95 Buzz\n",
      "96 Fizz\n",
      "99 Fizz\n",
      "100 Buzz\n",
      "Compilation of FizzBuzz numbers: [3, 5, 6, 9, 10, 12, 15, 18, 20, 21, 24, 25, 27, 30, 33, 35, 36, 39, 40, 42, 45, 48, 50, 51, 54, 55, 57, 60, 63, 65, 66, 69, 70, 72, 75, 78, 80, 81, 84, 85, 87, 90, 93, 95, 96, 99, 100]\n",
      "Sum of FizzBuzz numbers: 2418\n"
     ]
    }
   ],
   "source": [
    "compilation = []\n",
    "\n",
    "for fizzybuzzy in range(1, 101):\n",
    "    if fizzybuzzy % 3 == 0 and fizzybuzzy % 5 == 0:\n",
    "        print(fizzybuzzy, \"FizzBuzz\")\n",
    "        compilation.append(fizzybuzzy)\n",
    "    elif fizzybuzzy % 3 == 0:\n",
    "        print(fizzybuzzy, \"Fizz\")\n",
    "        compilation.append(fizzybuzzy)\n",
    "    elif fizzybuzzy % 5 == 0:\n",
    "        print(fizzybuzzy, \"Buzz\")\n",
    "        compilation.append(fizzybuzzy)\n",
    "    else:\n",
    "        pass\n",
    "print(\"Compilation of FizzBuzz numbers:\", compilation)  # Print the collected numbers\n",
    "\n",
    "sum = 0\n",
    "for value in compilation:\n",
    "    sum += value\n",
    "\n",
    "print(\"Sum of FizzBuzz numbers:\", sum)  # Print the sum of the collected numbers"
   ]
  }
 ],
 "metadata": {
  "file_extension": ".py",
  "kernelspec": {
   "display_name": "Python 3",
   "language": "python",
   "name": "python3"
  },
  "language_info": {
   "codemirror_mode": {
    "name": "ipython",
    "version": 3
   },
   "file_extension": ".py",
   "mimetype": "text/x-python",
   "name": "python",
   "nbconvert_exporter": "python",
   "pygments_lexer": "ipython3",
   "version": "3.13.1"
  },
  "mimetype": "text/x-python",
  "name": "python",
  "npconvert_exporter": "python",
  "pygments_lexer": "ipython3",
  "version": 3
 },
 "nbformat": 4,
 "nbformat_minor": 2
}
