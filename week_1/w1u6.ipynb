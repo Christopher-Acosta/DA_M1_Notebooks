{
 "cells": [
  {
   "cell_type": "markdown",
   "metadata": {},
   "source": [
    "# Conditional statements - part 2\n",
    "# Multiple conditions\n",
    "\n",
    "What happens, if you want have a split with more than two alternatives? For example if the variable `name` contains the value *Peter* or *Paul* or *Mary*? A condition can only have two outcomes namely `True` and `False`. However, \n",
    "it is also possible to check several conditions one after the other. The syntax for this is:\n",
    "\n",
    "```python\n",
    "if condition_1:\n",
    "    statement_1\n",
    "elif condition_2:\n",
    "    statement_2\n",
    "elif condition_3:\n",
    "    statement_3\n",
    "else:\n",
    "    statement_4\n",
    "statement_5\n",
    "```\n",
    "\n",
    "In this case, the conditions are checked in order. For the first true condition the corresponding code block (the\n",
    "indented statements) is executed. The code block after the `else` is executed only if none of the condition was true.\n",
    "Once a code block has been executed, no further conditions are checked. \n",
    "\n",
    "When using multiple conditions their order can be\n",
    "crucial. This is illustrated in the following examples."
   ]
  },
  {
   "cell_type": "code",
   "execution_count": null,
   "metadata": {},
   "outputs": [],
   "source": [
    "temperature = int(input(\"How many degrees (Celsius) is it? \"))\n",
    "\n",
    "if temperature > 30:\n",
    "    print(\"hot\")\n",
    "elif temperature > 20:\n",
    "    print(\"warm\")\n",
    "else:\n",
    "    print(\"cold\")"
   ]
  },
  {
   "cell_type": "code",
   "execution_count": null,
   "metadata": {},
   "outputs": [],
   "source": [
    "temperature = int(input(\"How many degrees (Celsius) is it? \"))\n",
    "\n",
    "if temperature > 20:\n",
    "    print(\"warm\")\n",
    "elif temperature > 30:\n",
    "    print(\"hot\")\n",
    "else:\n",
    "    print(\"cold\")"
   ]
  },
  {
   "cell_type": "markdown",
   "metadata": {},
   "source": [
    "# Nesting\n",
    "Conditional statements can be nested. This means that an `if` statement itself can contain one or several `if`\n",
    "statements. Sometimes this is needed to check several conditions one after the other."
   ]
  },
  {
   "cell_type": "code",
   "execution_count": null,
   "metadata": {},
   "outputs": [
    {
     "name": "stdout",
     "output_type": "stream",
     "text": [
      "It's warm\n",
      "Warm & raining: summer in Aachen\n",
      "It's warm, it rains and it's windy!\n",
      "Warm, raining, windy and time is running backwards.\n"
     ]
    }
   ],
   "source": [
    "temperature = int(input(\"Please insert the current temperature: \"))\n",
    "rain = True\n",
    "wind = True\n",
    "temporal_anomaly = True\n",
    "\n",
    "if temperature > 20:\n",
    "    print(\"It's warm\")\n",
    "    if rain:\n",
    "        print(\"Warm & raining: summer in Aachen\")\n",
    "        if wind:\n",
    "            print(\"It's warm, it rains and it's windy!\")\n",
    "            if temporal_anomaly:\n",
    "                print(\"Warm, raining, windy and time is running backwards.\")\n",
    "            else:\n",
    "                print(\"Warm, raining, windy and time is perfectly fine.\")\n",
    "        else:\n",
    "            print(\"Warm, raining and windless. Could else be amiss?\")\n",
    "            if temporal_anomaly:\n",
    "                print(\"Warm, raining, windless and time is running backwards.\")\n",
    "            else:\n",
    "                print(\"Warm, raining, windless and time is perfectly fine.\")\n",
    "    else:\n",
    "        print(\"Warm and dry, beautiful!\")\n",
    "        if wind:\n",
    "            print(\"Warm, dry and windy: Good weather for sailing\")\n",
    "            if temporal_anomaly:\n",
    "                print(\"Warm, dry, windy and time is running backwards.\")\n",
    "            else:\n",
    "                print(\"Warm, dry, windless: Time is perfectly fine.\")\n",
    "        else:\n",
    "            print(\"Warm, dry and windless. Could else be amiss?\")\n",
    "            if temporal_anomaly:\n",
    "                print(\"Warm, dry, windless and time is running backwards.\")\n",
    "            else:\n",
    "                print(\"Warm, dry, windless and time is perfectly fine.\")\n",
    "else:\n",
    "    print(\"If it's cold, I don't care about rain and wind\")"
   ]
  },
  {
   "cell_type": "markdown",
   "metadata": {},
   "source": [
    "# Exercise 2\n",
    "Write a program that simulates the input of an ATM. For this the following steps need to be carried out:\n",
    "- First ask for the PIN.\n",
    "- Compare the input with a constant you have chosen.\n",
    "- The following steps will be executed only if the correct PIN is entered:\n",
    "    - Ask how much money should be withdrawn.\n",
    "    - Compare the amount with a fixed account balance.\n",
    "    - If the account is covered, display a corresponding output (\"Money is issued\") and the new account balance.\n",
    "    - If the account is not covered, display an appropriate error message.\n",
    "- If the PIN was entered incorrectly, issue an error message."
   ]
  },
  {
   "cell_type": "code",
   "execution_count": null,
   "metadata": {},
   "outputs": [
    {
     "name": "stdout",
     "output_type": "stream",
     "text": [
      "Welcome to the ATM!\n",
      "Welcome, Chris!\n"
     ]
    }
   ],
   "source": [
    "myPIN = 1234\n",
    "name = \"Chris\"\n",
    "balance = 15928\n",
    "\n",
    "print(\"Welcome to the ATM!\")\n",
    "PIN = int(input(\"Please enter your PIN: \"))\n",
    "if PIN == myPIN:\n",
    "    print(\"Welcome, \" + name + \"!\")\n",
    "    task = input(\"Would you like to 'withdraw', check your 'balance' or 'deposit' money?\").lower()\n",
    "    if \"withdraw\" in task:\n",
    "        amount = int(input(\"How much would you like to withdraw? \"))\n",
    "        if amount > balance:\n",
    "            print(\"You don't have enough money.\")\n",
    "        elif amount <= 0:\n",
    "            print(\"You must withdraw a positive amount in multiples of 10.\")\n",
    "        elif amount % 10 != 0:\n",
    "            print(\"You can only withdraw amounts that are multiples of 10.\")\n",
    "        elif amount > 1000:\n",
    "            print(\"You can't withdraw more than 1000.\")\n",
    "        elif amount > 0 and amount <= balance and amount % 10 == 0:\n",
    "            balance -= amount\n",
    "            print(\"You have withdrawn \" + str(amount) + \"€. Your balance is now \" + str(balance) + \"€.\")\n",
    "    elif \"balance\" in task:\n",
    "        print(\"Your balance is \" + str(balance) + \"€.\")\n",
    "    elif \"deposit\" in task:\n",
    "        amount = int(input(\"How much would you like to deposit? \"))\n",
    "        if amount < 0:\n",
    "            print(\"You can't deposit a negative amount.\")\n",
    "        else:\n",
    "            balance += amount\n",
    "            print(\"You have deposited \" + str(amount) + \"€. Your balance is now \" + str(balance) + \"€.\")\n",
    "    else:\n",
    "        print(\"Please choose withdraw, balance, or deposit.\")\n",
    "else:\n",
    "    print(\"Wrong PIN. Please try again.\")\n",
    "print(\"Goodbye!\")\n",
    "\n"
   ]
  }
 ],
 "metadata": {
  "file_extension": ".py",
  "interpreter": {
   "hash": "ac59ebe37160ed0dfa835113d9b8498d9f09ceb179beaac4002f036b9467c963"
  },
  "kernelspec": {
   "display_name": "Python 3",
   "language": "python",
   "name": "python3"
  },
  "language_info": {
   "codemirror_mode": {
    "name": "ipython",
    "version": 3
   },
   "file_extension": ".py",
   "mimetype": "text/x-python",
   "name": "python",
   "nbconvert_exporter": "python",
   "pygments_lexer": "ipython3",
   "version": "3.13.1"
  },
  "mimetype": "text/x-python",
  "name": "python",
  "npconvert_exporter": "python",
  "pygments_lexer": "ipython3",
  "version": 3
 },
 "nbformat": 4,
 "nbformat_minor": 2
}
