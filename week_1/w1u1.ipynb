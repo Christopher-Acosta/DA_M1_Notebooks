{
 "cells": [
  {
   "cell_type": "markdown",
   "id": "aa21b02c",
   "metadata": {},
   "source": [
    "# Python - Introduction\n",
    "In the following Notebooks, the key concepts of computer programs are discussed.\n",
    "\n",
    "\n",
    "# Python-programs consist of statements, which are executed one by one\n",
    "What is a Python-program? More generally, what is a (computer) program? All Python programs consist of a series of\n",
    "statements or instructions. And these statements are executed one by one. (This order of execution can be changed e.g. by\n",
    "conditions, which will be discussed later.) An example of a statement is the multiplication of two numbers.\n",
    "Multiplication is represented in Python by the character `*`.\n",
    "\n",
    "If just one statement is entered, the Python program can be used as a simple calculator. In the following cell, there is\n",
    "actually a complete Python program consisting of only one statement. The result of this operation, the output, is\n",
    "written under the cell, after the cell has been executed. (The cell can be executed by clicking on it and entering\n",
    "Shift-Return or CTRL-Return).\n",
    "\n",
    "If you change the values or the operator (i.e. the `*` or the `+`), you can do simple calculations."
   ]
  },
  {
   "cell_type": "code",
   "execution_count": 1,
   "id": "c631533e",
   "metadata": {},
   "outputs": [
    {
     "data": {
      "text/plain": [
       "12"
      ]
     },
     "execution_count": 1,
     "metadata": {},
     "output_type": "execute_result"
    }
   ],
   "source": [
    "5 + 7"
   ]
  },
  {
   "cell_type": "code",
   "execution_count": 2,
   "id": "81faf770",
   "metadata": {},
   "outputs": [
    {
     "data": {
      "text/plain": [
       "168"
      ]
     },
     "execution_count": 2,
     "metadata": {},
     "output_type": "execute_result"
    }
   ],
   "source": [
    "12 * 14"
   ]
  },
  {
   "cell_type": "markdown",
   "id": "046e08c7",
   "metadata": {},
   "source": [
    "# Mathematical Operators\n",
    "The `*` is called an operator in Python. The following table contains a list of frequently used arithmetic operators.\n",
    "\n",
    "| Description      | Operator | Example  | Result             |\n",
    "| ---------------- | -------- | -------- | ------------------ |\n",
    "| Addition         | +        | 2 + 3    | 5                  |\n",
    "| Subtraction      | -        | 2 - 3    | -1                 |\n",
    "| Multiplication   | *        | 2 * 3    | 6                  |\n",
    "| Division         | /        | 7 / 3    | 2.3333333333333335 |\n",
    "| Integer Division | //       | 7 // 3   | 2                  |\n",
    "| Modulo           | %        | 7 % 3    | 1                  |\n",
    "| Exponentiation   | **       | 2 ** 0.5 | 1.4142135623730951 |\n",
    " \n",
    "Python uses the operators precedence known from math. Multiplication and division are performed before addition and\n",
    "subtraction. Parenthesis can be used to influence the order of execution.\n",
    " \n",
    "Additionally, a brief explanation of integer division and modulo: In primary school, you first learned about integer\n",
    "division. If you divide 7 by 3 (and do not yet know any decimal numbers), the result is 2 with a remainder of 1. Integer\n",
    "division and modulo lead to exactly these results. The integer division of `7 // 3` results in `2`. The result of the\n",
    "modulo operation `7 % 3` is `1`, the remainder of the division. Especially the modulo operation is **frequently** used\n",
    "in programming!\n",
    "\n",
    "In comparison to a calculator, it is possible to enter bigger formulas into a cell."
   ]
  },
  {
   "cell_type": "code",
   "execution_count": 3,
   "id": "17ab570d",
   "metadata": {},
   "outputs": [
    {
     "data": {
      "text/plain": [
       "35.28571428571429"
      ]
     },
     "execution_count": 3,
     "metadata": {},
     "output_type": "execute_result"
    }
   ],
   "source": [
    "1 + 2 * 3 * 4 * 5 - 6 / 7 % 8 ** 9 * 100"
   ]
  },
  {
   "cell_type": "code",
   "execution_count": 4,
   "id": "a2b8fb37",
   "metadata": {},
   "outputs": [
    {
     "data": {
      "text/plain": [
       "1.00000267634068"
      ]
     },
     "execution_count": 4,
     "metadata": {},
     "output_type": "execute_result"
    }
   ],
   "source": [
    "1 + 2 * (3 * 4 * 5 - 6) / (7 % 8) ** 9"
   ]
  },
  {
   "cell_type": "markdown",
   "id": "a0fc7648",
   "metadata": {},
   "source": [
    "## Fun Fact: Python can handle really large numbers\n",
    "Unlike the calculator and unlike many other programming languages, Python can handle really large numbers. For integer\n",
    "values (i.e. for whole numbers) there is no size constraint in Python apart from the internal memory of the machine\n",
    "Python is running on. Because of this, you can multiply or potentiate pretty large numbers without problems."
   ]
  },
  {
   "cell_type": "code",
   "execution_count": 14,
   "id": "52463ddc",
   "metadata": {},
   "outputs": [
    {
     "data": {
      "text/plain": [
       "15159303447591705561417273129"
      ]
     },
     "execution_count": 14,
     "metadata": {},
     "output_type": "execute_result"
    }
   ],
   "source": [
    "Unbelievable = -123123123123123\n",
    "\n",
    "Unbelievable ** 2"
   ]
  },
  {
   "cell_type": "code",
   "execution_count": 15,
   "id": "e1aacbd1",
   "metadata": {},
   "outputs": [
    {
     "data": {
      "text/plain": [
       "173766203193809456599982445949435627061939786100117250547173286503262376022458008465094333630120854338003194362163007597987225472483598640843335685441710193966274131338557192586399006789292714554767500194796127964596906605976605873665859580600161998556511368530960400907199253450604168622770350228527124626728538626805418833470107651091641919900725415994689920112219170907023561354484047025713734651608777544579846111001059482132180956689444108315785401642188044178788629853592228467331730519810763559577944882016286493908631503101121166109571682295769470379514531105239965209245314082665518579335511291525230373316486697786532335206274149240813489201828773854353041855598709390675430960381072270432383913542702130202430186637321862331068861776780211082856984506050024895394320139435868484643843368002496089956046419964019877586845530207748994394501505588146979082629871366088121763790555364513243984244004147636040219136443410377798011608722717131323621700159335786445601947601694025107888293017058178562647175461026384343438874861406516767158373279032321096262126551620255666605185789463207944391905756886829667520553014724372245300878786091700563444079107099009003380230356461989260377273986023281444076082783406824471703499844642915587790146384758051663547775336021829171033411043796977042190519657861762804226147480755555085278062866268677842432851421790544407006581148631979148571299417963950579210719961422405768071335213324842709316205032078384168750091017964584060285240107161561019930505687950233196051962261970932008838279760834318101044311710769457048672103958655016388894770892065267451228938951370237422841366052736174160431593023473217066764172949768821843606479073866252864377064398085101223216558344281956767163876579889759124956035672317578122141070933058555310274598884089982879647974020264495921703064439532898207943134374576254840272047075633856749514044298135927611328433323640657533550512376900773273703275329924651465759145114579174356770593439987135755889403613364529029604049868233807295134382284730745937309910703657676103447124097631074153287120040247837143656624045055614076111832245239612708339272798262887437416818440064925049838443370805645609424314780108030016683461562597569371539974003402697903023830108053034645133078208043917492087248958344081026378788915528519967248989338592027124423914083391771884524464968645052058218151010508471258285907685355807229880747677634789376"
      ]
     },
     "execution_count": 15,
     "metadata": {},
     "output_type": "execute_result"
    }
   ],
   "source": [
    "2 ** 8000"
   ]
  }
 ],
 "metadata": {
  "interpreter": {
   "hash": "ac59ebe37160ed0dfa835113d9b8498d9f09ceb179beaac4002f036b9467c963"
  },
  "kernelspec": {
   "display_name": "Python 3",
   "language": "python",
   "name": "python3"
  },
  "language_info": {
   "codemirror_mode": {
    "name": "ipython",
    "version": 3
   },
   "file_extension": ".py",
   "mimetype": "text/x-python",
   "name": "python",
   "nbconvert_exporter": "python",
   "pygments_lexer": "ipython3",
   "version": "3.13.1"
  }
 },
 "nbformat": 4,
 "nbformat_minor": 5
}
